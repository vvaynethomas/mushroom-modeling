{
 "cells": [
  {
   "cell_type": "code",
   "execution_count": 1,
   "id": "sacred-hello",
   "metadata": {},
   "outputs": [],
   "source": [
    "import numpy as np\n",
    "import pandas as pd\n",
    "import matplotlib\n",
    "import matplotlib.pyplot as plt\n",
    "import seaborn as sns\n",
    "import sklearn\n",
    "%matplotlib inline"
   ]
  },
  {
   "cell_type": "markdown",
   "id": "encouraging-benchmark",
   "metadata": {},
   "source": [
    "# Question 1"
   ]
  },
  {
   "cell_type": "code",
   "execution_count": 2,
   "id": "about-enclosure",
   "metadata": {
    "tags": []
   },
   "outputs": [
    {
     "name": "stdout",
     "output_type": "stream",
     "text": [
      "<class 'pandas.core.frame.DataFrame'>\n",
      "RangeIndex: 8124 entries, 0 to 8123\n",
      "Data columns (total 23 columns):\n",
      " #   Column                    Non-Null Count  Dtype   \n",
      "---  ------                    --------------  -----   \n",
      " 0   cap-shape                 8124 non-null   category\n",
      " 1   cap-surface               8124 non-null   category\n",
      " 2   cap-color                 8124 non-null   category\n",
      " 3   bruises                   8124 non-null   category\n",
      " 4   odor                      8124 non-null   category\n",
      " 5   gill-attachment           8124 non-null   category\n",
      " 6   gill-spacing              8124 non-null   category\n",
      " 7   gill-size                 8124 non-null   category\n",
      " 8   gill-color                8124 non-null   category\n",
      " 9   stalk-shape               8124 non-null   category\n",
      " 10  stalk-root                5644 non-null   category\n",
      " 11  stalk-surface-above-ring  8124 non-null   category\n",
      " 12  stalk-surface-below-ring  8124 non-null   category\n",
      " 13  stalk-color-above-ring    8124 non-null   category\n",
      " 14  stalk-color-below-ring    8124 non-null   category\n",
      " 15  veil-type                 8124 non-null   category\n",
      " 16  veil-color                8124 non-null   category\n",
      " 17  ring-number               8124 non-null   category\n",
      " 18  ring-type                 8124 non-null   category\n",
      " 19  spore-print-color         8124 non-null   category\n",
      " 20  population                8124 non-null   category\n",
      " 21  habitat                   8124 non-null   category\n",
      " 22  class                     8124 non-null   category\n",
      "dtypes: category(23)\n",
      "memory usage: 187.8 KB\n"
     ]
    }
   ],
   "source": [
    "# load data\n",
    "df = pd.read_csv('https://datahub.io/machine-learning/mushroom/r/mushroom.csv')\n",
    "df.rename(columns={'bruises%3F':'bruises'}, inplace=True)\n",
    "df = df.apply(lambda x: x.astype('category'))\n",
    "df.info()"
   ]
  },
  {
   "cell_type": "code",
   "execution_count": 3,
   "id": "horizontal-complexity",
   "metadata": {},
   "outputs": [
    {
     "name": "stdout",
     "output_type": "stream",
     "text": [
      "<class 'pandas.core.frame.DataFrame'>\n",
      "RangeIndex: 8124 entries, 0 to 8123\n",
      "Data columns (total 23 columns):\n",
      " #   Column                    Non-Null Count  Dtype   \n",
      "---  ------                    --------------  -----   \n",
      " 0   cap-shape                 8124 non-null   category\n",
      " 1   cap-surface               8124 non-null   category\n",
      " 2   cap-color                 8124 non-null   category\n",
      " 3   bruises                   8124 non-null   category\n",
      " 4   odor                      8124 non-null   category\n",
      " 5   gill-attachment           8124 non-null   category\n",
      " 6   gill-spacing              8124 non-null   category\n",
      " 7   gill-size                 8124 non-null   category\n",
      " 8   gill-color                8124 non-null   category\n",
      " 9   stalk-shape               8124 non-null   category\n",
      " 10  stalk-root                8124 non-null   category\n",
      " 11  stalk-surface-above-ring  8124 non-null   category\n",
      " 12  stalk-surface-below-ring  8124 non-null   category\n",
      " 13  stalk-color-above-ring    8124 non-null   category\n",
      " 14  stalk-color-below-ring    8124 non-null   category\n",
      " 15  veil-type                 8124 non-null   category\n",
      " 16  veil-color                8124 non-null   category\n",
      " 17  ring-number               8124 non-null   category\n",
      " 18  ring-type                 8124 non-null   category\n",
      " 19  spore-print-color         8124 non-null   category\n",
      " 20  population                8124 non-null   category\n",
      " 21  habitat                   8124 non-null   category\n",
      " 22  class                     8124 non-null   category\n",
      "dtypes: category(23)\n",
      "memory usage: 187.8 KB\n"
     ]
    }
   ],
   "source": [
    "# replace null values with 'unknown' category\n",
    "df['stalk-root'] = df['stalk-root'].cat.add_categories(\"Unknown\").fillna(\"Unknown\")\n",
    "df.info()"
   ]
  },
  {
   "cell_type": "code",
   "execution_count": 4,
   "id": "motivated-planning",
   "metadata": {},
   "outputs": [
    {
     "name": "stdout",
     "output_type": "stream",
     "text": [
      "<bound method NDFrame.describe of 0       1\n",
      "1       0\n",
      "2       0\n",
      "3       1\n",
      "4       0\n",
      "       ..\n",
      "8119    0\n",
      "8120    0\n",
      "8121    0\n",
      "8122    1\n",
      "8123    0\n",
      "Length: 8124, dtype: int8>\n",
      "       cap-shape_b  cap-shape_c  cap-shape_f  cap-shape_k  cap-shape_s  \\\n",
      "count  8124.000000  8124.000000  8124.000000  8124.000000  8124.000000   \n",
      "mean      0.055638     0.000492     0.387986     0.101920     0.003939   \n",
      "std       0.229235     0.022185     0.487321     0.302562     0.062641   \n",
      "min       0.000000     0.000000     0.000000     0.000000     0.000000   \n",
      "25%       0.000000     0.000000     0.000000     0.000000     0.000000   \n",
      "50%       0.000000     0.000000     0.000000     0.000000     0.000000   \n",
      "75%       0.000000     0.000000     1.000000     0.000000     0.000000   \n",
      "max       1.000000     1.000000     1.000000     1.000000     1.000000   \n",
      "\n",
      "       cap-shape_x  cap-surface_f  cap-surface_g  cap-surface_s  \\\n",
      "count  8124.000000    8124.000000    8124.000000    8124.000000   \n",
      "mean      0.450025       0.285574       0.000492       0.314623   \n",
      "std       0.497527       0.451715       0.022185       0.464394   \n",
      "min       0.000000       0.000000       0.000000       0.000000   \n",
      "25%       0.000000       0.000000       0.000000       0.000000   \n",
      "50%       0.000000       0.000000       0.000000       0.000000   \n",
      "75%       1.000000       1.000000       0.000000       1.000000   \n",
      "max       1.000000       1.000000       1.000000       1.000000   \n",
      "\n",
      "       cap-surface_y  ...  population_s  population_v  population_y  \\\n",
      "count    8124.000000  ...   8124.000000   8124.000000   8124.000000   \n",
      "mean        0.399311  ...      0.153619      0.497292      0.210734   \n",
      "std         0.489787  ...      0.360605      0.500023      0.407855   \n",
      "min         0.000000  ...      0.000000      0.000000      0.000000   \n",
      "25%         0.000000  ...      0.000000      0.000000      0.000000   \n",
      "50%         0.000000  ...      0.000000      0.000000      0.000000   \n",
      "75%         1.000000  ...      0.000000      1.000000      0.000000   \n",
      "max         1.000000  ...      1.000000      1.000000      1.000000   \n",
      "\n",
      "         habitat_d    habitat_g    habitat_l    habitat_m    habitat_p  \\\n",
      "count  8124.000000  8124.000000  8124.000000  8124.000000  8124.000000   \n",
      "mean      0.387494     0.264402     0.102413     0.035943     0.140817   \n",
      "std       0.487208     0.441041     0.303209     0.186159     0.347854   \n",
      "min       0.000000     0.000000     0.000000     0.000000     0.000000   \n",
      "25%       0.000000     0.000000     0.000000     0.000000     0.000000   \n",
      "50%       0.000000     0.000000     0.000000     0.000000     0.000000   \n",
      "75%       1.000000     1.000000     0.000000     0.000000     0.000000   \n",
      "max       1.000000     1.000000     1.000000     1.000000     1.000000   \n",
      "\n",
      "         habitat_u    habitat_w  \n",
      "count  8124.000000  8124.000000  \n",
      "mean      0.045298     0.023634  \n",
      "std       0.207969     0.151914  \n",
      "min       0.000000     0.000000  \n",
      "25%       0.000000     0.000000  \n",
      "50%       0.000000     0.000000  \n",
      "75%       0.000000     0.000000  \n",
      "max       1.000000     1.000000  \n",
      "\n",
      "[8 rows x 117 columns]\n",
      "<class 'pandas.core.frame.DataFrame'>\n",
      "RangeIndex: 8124 entries, 0 to 8123\n",
      "Columns: 117 entries, cap-shape_b to habitat_w\n",
      "dtypes: uint8(117)\n",
      "memory usage: 928.4 KB\n",
      "None\n"
     ]
    }
   ],
   "source": [
    "# scale features\n",
    "from sklearn.preprocessing import StandardScaler\n",
    "features = df.copy()\n",
    "# print(features.info())\n",
    "y = features.pop('class')\n",
    "y = y.astype('category').cat.codes\n",
    "print(y.describe)\n",
    "X_dummies = pd.get_dummies(features, prefix=features.columns)\n",
    "print(X_dummies.describe())\n",
    "print(X_dummies.info())\n",
    "# y = df['class'].astype('category').cat.codes\n",
    "scaled_features = StandardScaler().fit_transform(X_dummies)"
   ]
  },
  {
   "cell_type": "code",
   "execution_count": 5,
   "id": "medieval-graphic",
   "metadata": {},
   "outputs": [],
   "source": [
    "# perform PCA and output components\n",
    "from sklearn.decomposition import PCA\n",
    "pca = PCA(n_components = 0.99)\n",
    "pca.fit(scaled_features)\n",
    "reduced = pca.transform(scaled_features)"
   ]
  },
  {
   "cell_type": "code",
   "execution_count": 6,
   "id": "certified-beverage",
   "metadata": {},
   "outputs": [
    {
     "name": "stdout",
     "output_type": "stream",
     "text": [
      "0       1\n",
      "1       0\n",
      "2       0\n",
      "3       1\n",
      "4       0\n",
      "       ..\n",
      "8119    0\n",
      "8120    0\n",
      "8121    0\n",
      "8122    1\n",
      "8123    0\n",
      "Length: 8124, dtype: int8\n"
     ]
    },
    {
     "data": {
      "image/png": "[encoded data removed]",
      "text/plain": [
       "<Figure size 720x504 with 1 Axes>"
      ]
     },
     "metadata": {
      "needs_background": "light"
     },
     "output_type": "display_data"
    }
   ],
   "source": [
    "# construct and visualize data hierarchy\n",
    "from scipy.cluster.hierarchy import dendrogram, linkage\n",
    "from matplotlib import pyplot as plt\n",
    "y = df['class'].astype('category').cat.codes\n",
    "print(y)\n",
    "linked = linkage(reduced, 'ward')\n",
    "\n",
    "labelList = y.unique()\n",
    "\n",
    "plt.figure(figsize=(10, 7))\n",
    "dendrogram(linked,\n",
    "            orientation='top',\n",
    "            labels=y.values,\n",
    "            distance_sort='descending',\n",
    "            show_leaf_counts=True,\n",
    "            p = 5,\n",
    "            truncate_mode='level')\n",
    "plt.show()"
   ]
  },
  {
   "cell_type": "code",
   "execution_count": 7,
   "id": "civic-vertex",
   "metadata": {},
   "outputs": [],
   "source": [
    "from sklearn.cluster import KMeans\n",
    "k_mean_model = KMeans(n_clusters=7)\n",
    "k_mean_model.fit(reduced)\n",
    "y_kmeans = k_mean_model.labels_"
   ]
  },
  {
   "cell_type": "code",
   "execution_count": 8,
   "id": "certain-liberia",
   "metadata": {},
   "outputs": [
    {
     "data": {
      "text/plain": [
       "<matplotlib.legend.Legend at 0x1e1f2b72790>"
      ]
     },
     "execution_count": 8,
     "metadata": {},
     "output_type": "execute_result"
    },
    {
     "data": {
      "image/png": "[encoded data removed]",
      "text/plain": [
       "<Figure size 432x288 with 1 Axes>"
      ]
     },
     "metadata": {
      "needs_background": "light"
     },
     "output_type": "display_data"
    }
   ],
   "source": [
    "sns.stripplot(x=y_kmeans,y=df['class'], hue=df['odor'])\n",
    "plt.legend(bbox_to_anchor=(1.05, 1), loc=2, borderaxespad=0.)"
   ]
  },
  {
   "cell_type": "code",
   "execution_count": 9,
   "id": "assured-stocks",
   "metadata": {},
   "outputs": [
    {
     "data": {
      "image/png": "[encoded data removed]",
      "text/plain": [
       "<Figure size 1152x576 with 1 Axes>"
      ]
     },
     "metadata": {
      "needs_background": "light"
     },
     "output_type": "display_data"
    }
   ],
   "source": [
    "# determine best number of clusters for KMeans Clustering via scree plot\n",
    "from sklearn.cluster import KMeans\n",
    "error = []\n",
    "num_cluster_range = range(1,20)\n",
    "for num_cluster in num_cluster_range:\n",
    "    k_mean_model = KMeans(n_clusters=num_cluster)\n",
    "    k_mean_model.fit(reduced)\n",
    "    error.append(k_mean_model.inertia_)\n",
    "plt.figure(figsize=(16,8))\n",
    "plt.plot(num_cluster_range, error, 'bx-')\n",
    "plt.xlabel('number of clusters')\n",
    "plt.ylabel('error')\n",
    "plt.title('Scree Plot')\n",
    "plt.show()"
   ]
  },
  {
   "cell_type": "code",
   "execution_count": 10,
   "id": "closed-count",
   "metadata": {},
   "outputs": [
    {
     "data": {
      "text/plain": [
       "8"
      ]
     },
     "execution_count": 10,
     "metadata": {},
     "output_type": "execute_result"
    }
   ],
   "source": [
    "from kneed import KneeLocator\n",
    "kl = KneeLocator(\n",
    "    range(1, 20), error, curve=\"convex\", direction=\"decreasing\")\n",
    "kl.elbow"
   ]
  },
  {
   "cell_type": "code",
   "execution_count": 11,
   "id": "informative-boards",
   "metadata": {},
   "outputs": [
    {
     "name": "stdout",
     "output_type": "stream",
     "text": [
      "       cap-shape cap-surface cap-color bruises  odor gill-attachment  \\\n",
      "count       8124        8124      8124    8124  8124            8124   \n",
      "unique         6           4        10       2     9               2   \n",
      "top            x           y         n       f     n               f   \n",
      "freq        3656        3244      2284    4748  3528            7914   \n",
      "\n",
      "       gill-spacing gill-size gill-color stalk-shape  ...  \\\n",
      "count          8124      8124       8124        8124  ...   \n",
      "unique            2         2         12           2  ...   \n",
      "top               c         b          b           t  ...   \n",
      "freq           6812      5612       1728        4608  ...   \n",
      "\n",
      "       stalk-color-above-ring stalk-color-below-ring veil-type veil-color  \\\n",
      "count                    8124                   8124      8124       8124   \n",
      "unique                      9                      9         1          4   \n",
      "top                         w                      w         p          w   \n",
      "freq                     4464                   4384      8124       7924   \n",
      "\n",
      "       ring-number ring-type spore-print-color population habitat class  \n",
      "count         8124      8124              8124       8124    8124  8124  \n",
      "unique           3         5                 9          6       7     2  \n",
      "top              o         p                 w          v       d     e  \n",
      "freq          7488      3968              2388       4040    3148  4208  \n",
      "\n",
      "[4 rows x 23 columns]\n"
     ]
    }
   ],
   "source": [
    "k_mean_model = KMeans(n_clusters=8)\n",
    "k_mean_model.fit(reduced)\n",
    "y_kmeans = k_mean_model.labels_\n",
    "X_dummies['cluster_label'] = y_kmeans\n",
    "print(df.describe())"
   ]
  },
  {
   "cell_type": "code",
   "execution_count": 12,
   "id": "severe-administration",
   "metadata": {},
   "outputs": [
    {
     "data": {
      "text/plain": [
       "<matplotlib.legend.Legend at 0x1e1ed8f5970>"
      ]
     },
     "execution_count": 12,
     "metadata": {},
     "output_type": "execute_result"
    },
    {
     "data": {
      "image/png": "[encoded data removed]",
      "text/plain": [
       "<Figure size 432x288 with 1 Axes>"
      ]
     },
     "metadata": {
      "needs_background": "light"
     },
     "output_type": "display_data"
    }
   ],
   "source": [
    "sns.stripplot(x=y_kmeans,y=df['class'], hue=df['odor'])\n",
    "plt.legend(bbox_to_anchor=(1.05, 1), loc=2, borderaxespad=0.)"
   ]
  },
  {
   "cell_type": "code",
   "execution_count": 13,
   "id": "about-tract",
   "metadata": {},
   "outputs": [
    {
     "name": "stdout",
     "output_type": "stream",
     "text": [
      "1.0\n"
     ]
    }
   ],
   "source": [
    "from sklearn.linear_model import LogisticRegression\n",
    "lr = LogisticRegression(max_iter = 10000)\n",
    "lr.fit(X_dummies, y_kmeans)\n",
    "lr_pred_1 = lr.predict(X_dummies)\n",
    "score = lr.score(X_dummies, y_kmeans)\n",
    "print(score)"
   ]
  },
  {
   "cell_type": "code",
   "execution_count": 14,
   "id": "prescription-feeding",
   "metadata": {},
   "outputs": [
    {
     "name": "stdout",
     "output_type": "stream",
     "text": [
      "Fitting 5 folds for each of 50 candidates, totalling 250 fits\n"
     ]
    },
    {
     "data": {
      "text/plain": [
       "GridSearchCV(cv=5, error_score=0, estimator=LogisticRegression(max_iter=10000),\n",
       "             n_jobs=-1,\n",
       "             param_grid={'C': array([1.00000000e-10, 1.59985872e-10, 2.55954792e-10, 4.09491506e-10,\n",
       "       6.55128557e-10, 1.04811313e-09, 1.67683294e-09, 2.68269580e-09,\n",
       "       4.29193426e-09, 6.86648845e-09, 1.09854114e-08, 1.75751062e-08,\n",
       "       2.81176870e-08, 4.49843267e-08, 7.19685673e-08, 1.15139540e-07,...\n",
       "       5.17947468e-05, 8.28642773e-05, 1.32571137e-04, 2.12095089e-04,\n",
       "       3.39322177e-04, 5.42867544e-04, 8.68511374e-04, 1.38949549e-03,\n",
       "       2.22299648e-03, 3.55648031e-03, 5.68986603e-03, 9.10298178e-03,\n",
       "       1.45634848e-02, 2.32995181e-02, 3.72759372e-02, 5.96362332e-02,\n",
       "       9.54095476e-02, 1.52641797e-01, 2.44205309e-01, 3.90693994e-01,\n",
       "       6.25055193e-01, 1.00000000e+00])},\n",
       "             scoring='accuracy', verbose=1)"
      ]
     },
     "execution_count": 14,
     "metadata": {},
     "output_type": "execute_result"
    }
   ],
   "source": [
    "from sklearn.model_selection import GridSearchCV\n",
    "lr = LogisticRegression(max_iter = 10000)\n",
    "c_values = np.logspace(-10,0)\n",
    "param_grid = {'C': c_values}\n",
    "fin_gs = GridSearchCV(lr, param_grid, cv=5, n_jobs=-1, scoring='accuracy', error_score=0, verbose=1)\n",
    "fin_gs.fit(X_dummies, y_kmeans)"
   ]
  },
  {
   "cell_type": "code",
   "execution_count": 15,
   "id": "automotive-conference",
   "metadata": {},
   "outputs": [
    {
     "name": "stderr",
     "output_type": "stream",
     "text": [
      "No handles with labels found to put in legend.\n"
     ]
    },
    {
     "data": {
      "image/png": "[encoded data removed]",
      "text/plain": [
       "<Figure size 432x288 with 1 Axes>"
      ]
     },
     "metadata": {
      "needs_background": "light"
     },
     "output_type": "display_data"
    }
   ],
   "source": [
    "scores = fin_gs.cv_results_['mean_test_score']\n",
    "plt.plot(c_values, 1-scores)\n",
    "plt.legend()\n",
    "plt.xlabel('C Value')\n",
    "plt.ylabel('Mean error')\n",
    "plt.show()"
   ]
  },
  {
   "cell_type": "code",
   "execution_count": 16,
   "id": "instant-orlando",
   "metadata": {},
   "outputs": [
    {
     "name": "stdout",
     "output_type": "stream",
     "text": [
      "Best score: 1.000\n",
      "Best parameters set:\n",
      "\tC: 0.023299518105153717\n"
     ]
    }
   ],
   "source": [
    "print(\"Best score: %0.3f\" % fin_gs.best_score_)\n",
    "print(\"Best parameters set:\")\n",
    "best_parameters = fin_gs.best_estimator_.get_params()\n",
    "for param_name in sorted(param_grid.keys()):\n",
    "    print(\"\\t%s: %r\" % (param_name, best_parameters[param_name]))"
   ]
  },
  {
   "cell_type": "markdown",
   "id": "polished-louisiana",
   "metadata": {},
   "source": [
    "At 99.2% accuracy, these clusters appear to fit the data well and should offer informative labels for classification. Additionally, we may be able to transform these labels further for different types of classification."
   ]
  },
  {
   "cell_type": "markdown",
   "id": "numerical-portland",
   "metadata": {},
   "source": [
    "These clusters may represent families or genus of a mushroom or perhaps even more evolutionary kind of groupings (in the sense that 'edibility' is very human evolution bound and often connected to familiarity/necessity).  As the visualization shows, there are clusters entirely devoid of poisonous mushrooms which may be great labels to substitute for the observed poisonous/edible because the 'edible' mushrooms are confirmed, whereas the subset of mushrooms labeled 'poisonous' also includes mushrooms that are unconfirmed."
   ]
  }
 ],
 "metadata": {
  "kernelspec": {
   "display_name": "Python 3 (ipykernel)",
   "language": "python",
   "name": "python3"
  },
  "language_info": {
   "codemirror_mode": {
    "name": "ipython",
    "version": 3
   },
   "file_extension": ".py",
   "mimetype": "text/x-python",
   "name": "python",
   "nbconvert_exporter": "python",
   "pygments_lexer": "ipython3",
   "version": "3.8.10"
  }
 },
 "nbformat": 4,
 "nbformat_minor": 5
}
