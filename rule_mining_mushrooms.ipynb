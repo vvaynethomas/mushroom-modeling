{
 "cells": [
  {
   "cell_type": "code",
   "execution_count": 1,
   "metadata": {},
   "outputs": [],
   "source": [
    "#prepare the environment\n",
    "%matplotlib inline\n",
    "import numpy as np\n",
    "import pandas as pd\n",
    "import matplotlib\n",
    "import matplotlib.pyplot as plt\n",
    "import seaborn as sns\n",
    "import sklearn\n",
    "sns.set_theme()"
   ]
  },
  {
   "cell_type": "code",
   "execution_count": 2,
   "metadata": {},
   "outputs": [],
   "source": [
    "mushroom_df = pd.read_csv('https://datahub.io/machine-learning/mushroom/r/mushroom.csv')\n",
    "mushroom_df.rename(columns={'bruises%3F':'bruises'}, inplace=True)\n",
    "mushroom_df = mushroom_df.apply(lambda x: x.astype('category'))"
   ]
  },
  {
   "cell_type": "code",
   "execution_count": 3,
   "metadata": {},
   "outputs": [
    {
     "name": "stdout",
     "output_type": "stream",
     "text": [
      "<class 'pandas.core.frame.DataFrame'>\n",
      "RangeIndex: 8124 entries, 0 to 8123\n",
      "Data columns (total 23 columns):\n",
      " #   Column                    Non-Null Count  Dtype   \n",
      "---  ------                    --------------  -----   \n",
      " 0   cap-shape                 8124 non-null   category\n",
      " 1   cap-surface               8124 non-null   category\n",
      " 2   cap-color                 8124 non-null   category\n",
      " 3   bruises                   8124 non-null   category\n",
      " 4   odor                      8124 non-null   category\n",
      " 5   gill-attachment           8124 non-null   category\n",
      " 6   gill-spacing              8124 non-null   category\n",
      " 7   gill-size                 8124 non-null   category\n",
      " 8   gill-color                8124 non-null   category\n",
      " 9   stalk-shape               8124 non-null   category\n",
      " 10  stalk-root                5644 non-null   category\n",
      " 11  stalk-surface-above-ring  8124 non-null   category\n",
      " 12  stalk-surface-below-ring  8124 non-null   category\n",
      " 13  stalk-color-above-ring    8124 non-null   category\n",
      " 14  stalk-color-below-ring    8124 non-null   category\n",
      " 15  veil-type                 8124 non-null   category\n",
      " 16  veil-color                8124 non-null   category\n",
      " 17  ring-number               8124 non-null   category\n",
      " 18  ring-type                 8124 non-null   category\n",
      " 19  spore-print-color         8124 non-null   category\n",
      " 20  population                8124 non-null   category\n",
      " 21  habitat                   8124 non-null   category\n",
      " 22  class                     8124 non-null   category\n",
      "dtypes: category(23)\n",
      "memory usage: 187.8 KB\n"
     ]
    }
   ],
   "source": [
    "mushroom_df.info()"
   ]
  },
  {
   "cell_type": "code",
   "execution_count": 4,
   "metadata": {},
   "outputs": [
    {
     "name": "stdout",
     "output_type": "stream",
     "text": [
      "<class 'pandas.core.frame.DataFrame'>\n",
      "RangeIndex: 8124 entries, 0 to 8123\n",
      "Data columns (total 22 columns):\n",
      " #   Column                    Non-Null Count  Dtype   \n",
      "---  ------                    --------------  -----   \n",
      " 0   cap-shape                 8124 non-null   category\n",
      " 1   cap-surface               8124 non-null   category\n",
      " 2   cap-color                 8124 non-null   category\n",
      " 3   bruises                   8124 non-null   category\n",
      " 4   good_for_soup             8124 non-null   category\n",
      " 5   gill-attachment           8124 non-null   category\n",
      " 6   gill-spacing              8124 non-null   category\n",
      " 7   gill-size                 8124 non-null   category\n",
      " 8   gill-color                8124 non-null   category\n",
      " 9   stalk-shape               8124 non-null   category\n",
      " 10  stalk-root                8124 non-null   category\n",
      " 11  stalk-surface-above-ring  8124 non-null   category\n",
      " 12  stalk-surface-below-ring  8124 non-null   category\n",
      " 13  stalk-color-above-ring    8124 non-null   category\n",
      " 14  stalk-color-below-ring    8124 non-null   category\n",
      " 15  veil-color                8124 non-null   category\n",
      " 16  ring-number               8124 non-null   category\n",
      " 17  ring-type                 8124 non-null   category\n",
      " 18  spore-print-color         8124 non-null   category\n",
      " 19  population                8124 non-null   category\n",
      " 20  habitat                   8124 non-null   category\n",
      " 21  class                     8124 non-null   category\n",
      "dtypes: category(22)\n",
      "memory usage: 179.5 KB\n"
     ]
    }
   ],
   "source": [
    "mushroom_df.drop('veil-type', inplace=True, axis=1)\n",
    "mushroom_df['stalk-root'] = mushroom_df['stalk-root'].cat.add_categories(\"Unknown\").fillna(\"Unknown\")\n",
    "mushroom_df['odor'] = mushroom_df['odor'].apply(lambda x: 'good' if str(x) in ['a','l'] else 'neutral' if str(x) == 'n' else 'rotten').astype('category')\n",
    "mushroom_df = mushroom_df.rename(columns={'odor':\"good_for_soup\"})\n",
    "mushroom_df.info()"
   ]
  },
  {
   "cell_type": "code",
   "execution_count": 10,
   "metadata": {},
   "outputs": [],
   "source": [
    "from sklearn.metrics import classification_report, confusion_matrix, precision_recall_curve, auc, roc_curve\n",
    "from sklearn.tree import DecisionTreeClassifier, export_graphviz\n",
    "import graphviz\n",
    "from sklearn.linear_model import LogisticRegression\n",
    "\n",
    "X = mushroom_df.copy()\n",
    "X_factorized = X.apply(lambda x: pd.factorize(x)[0])"
   ]
  },
  {
   "cell_type": "code",
   "execution_count": null,
   "metadata": {},
   "outputs": [],
   "source": [
    "# sns.color_palette(\"viridis\", as_cmap=True)\n",
    "plt.figure(figsize=(14,12))\n",
    "sns.heatmap(X_factorized.corr(),linewidths=.1,cmap=\"icefire\", annot=True)\n",
    "plt.title('Pearson Correlation of Features', y=1.05, size=15)\n",
    "plt.yticks(rotation=0);"
   ]
  },
  {
   "cell_type": "code",
   "execution_count": 11,
   "metadata": {},
   "outputs": [
    {
     "name": "stdout",
     "output_type": "stream",
     "text": [
      "[True]\n",
      "[False]\n",
      "[False]\n",
      "[False]\n",
      "(5443, 109)\n",
      "(5443,)\n",
      "(2681, 109)\n",
      "(2681,)\n"
     ]
    }
   ],
   "source": [
    "import sklearn.model_selection as model_selection\n",
    "y = X.pop('good_for_soup')\n",
    "X_dummies = pd.get_dummies(X, prefix=list(X.columns))\n",
    "X_train, X_test, Y_train, Y_test = model_selection.train_test_split(X_dummies, y, test_size=0.33, random_state=13)\n",
    "print(X_train.shape)\n",
    "print(Y_train.shape)\n",
    "print(X_test.shape)\n",
    "print(Y_test.shape)"
   ]
  },
  {
   "cell_type": "markdown",
   "metadata": {},
   "source": [
    "Given that odor and a mushroom's classification as 'poisonous' or 'edible' are strongly negatively correlated and that odor is a direct contributor and fundamental constituent of flavor, so I will use 'odor' as the 'class' to be predicted, with a trinary categorical system of 'good', 'neutral', and 'bad' odors.  This is further supported by the following notions: few of the total mushrooms that exist are toxic both raw and post-processing, of those mushrooms which are toxic in any state even fewer are fatally so, and finally, most toxic mushrooms (other than the amanita which are famously lethal, good-smelling, and delicious) are considered to have an acrid and spicy experience which will be categorized as NGFS (not-good-for-soup) thus further reducing the probability of predicting a delicious as well as life-ending soup.  Additionally, there is the notion that I have been deep down the mushroom rabbithole for several days and am not sure what to believe about anything except that there are few if any hard and fast rules with these beautiful, amazing, crazy, harrowing, and brilliant plantimalizomes (copyright pending).  Is chicken-of-the-woods in this dataset?"
   ]
  },
  {
   "cell_type": "code",
   "execution_count": 12,
   "metadata": {},
   "outputs": [
    {
     "data": {
      "image/png": "[encoded data removed]",
      "text/plain": [
       "<Figure size 360x864 with 1 Axes>"
      ]
     },
     "metadata": {},
     "output_type": "display_data"
    }
   ],
   "source": [
    "# determine feature importance by way of a decision tree classifier\n",
    "clf = DecisionTreeClassifier()\n",
    "clf = clf.fit(X_dummies, y)\n",
    "features_list = X_dummies.columns.values\n",
    "feature_importance = clf.feature_importances_\n",
    "sorted_idx = np.argsort(feature_importance)\n",
    "\n",
    "sns.set_style(\"dark\")\n",
    "plt.figure(figsize=(5,12))\n",
    "plt.barh(range(len(sorted_idx)), feature_importance[sorted_idx], align='center')\n",
    "plt.yticks(range(len(sorted_idx)), features_list[sorted_idx])\n",
    "plt.xlabel('Importance')\n",
    "plt.title('Feature importances')\n",
    "plt.tick_params(axis='y', which='major', labelsize=8)\n",
    "plt.draw()\n",
    "plt.show()"
   ]
  },
  {
   "cell_type": "markdown",
   "metadata": {},
   "source": [
    "We can see that there are very few 'important' variables for determining 'good_for_soup' (as a stand-in for flavor which is aggregated by 'odor') and this might be important for rule association mining if I want to have this done by the deadline.  But also, overfitting and multicollinearity could be issues if I wanted to do different models."
   ]
  },
  {
   "cell_type": "code",
   "execution_count": 13,
   "metadata": {},
   "outputs": [
    {
     "name": "stdout",
     "output_type": "stream",
     "text": [
      "['cap-surface', 'bruises', 'good_for_soup', 'gill-spacing', 'gill-size', 'gill-color', 'stalk-shape', 'stalk-root', 'stalk-surface-above-ring', 'stalk-surface-below-ring', 'stalk-color-above-ring', 'veil-color', 'ring-number', 'ring-type', 'spore-print-color', 'habitat', 'class']\n"
     ]
    }
   ],
   "source": [
    "#select only features which are at least somewhat correlated to good_for_soup\n",
    "cor_target = abs(X_factorized.corr()['good_for_soup'])\n",
    "relevant_features = cor_target[cor_target>0.15]\n",
    "columns_of_interest = list(relevant_features.index)\n",
    "print(columns_of_interest)"
   ]
  },
  {
   "cell_type": "code",
   "execution_count": 14,
   "metadata": {},
   "outputs": [],
   "source": [
    "# slice and transform original dataset\n",
    "X = mushroom_df[columns_of_interest].copy()\n",
    "X = pd.get_dummies(X, prefix=X.columns)"
   ]
  },
  {
   "cell_type": "markdown",
   "metadata": {},
   "source": []
  },
  {
   "cell_type": "markdown",
   "metadata": {},
   "source": [
    "## Let's try association rule mining via the Apriori algorithm"
   ]
  },
  {
   "cell_type": "markdown",
   "metadata": {},
   "source": [
    "### first, we need frequent itemsets"
   ]
  },
  {
   "cell_type": "code",
   "execution_count": 15,
   "metadata": {},
   "outputs": [],
   "source": [
    "from mlxtend.frequent_patterns import apriori  \n",
    "from mlxtend.frequent_patterns import association_rules\n",
    "freq_is = apriori(X, min_support=0.07, use_colnames=True)"
   ]
  },
  {
   "cell_type": "code",
   "execution_count": 16,
   "metadata": {},
   "outputs": [
    {
     "data": {
      "text/html": [
       "<div>\n",
       "<style scoped>\n",
       "    .dataframe tbody tr th:only-of-type {\n",
       "        vertical-align: middle;\n",
       "    }\n",
       "\n",
       "    .dataframe tbody tr th {\n",
       "        vertical-align: top;\n",
       "    }\n",
       "\n",
       "    .dataframe thead th {\n",
       "        text-align: right;\n",
       "    }\n",
       "</style>\n",
       "<table border=\"1\" class=\"dataframe\">\n",
       "  <thead>\n",
       "    <tr style=\"text-align: right;\">\n",
       "      <th></th>\n",
       "      <th>antecedents</th>\n",
       "      <th>consequents</th>\n",
       "      <th>antecedent support</th>\n",
       "      <th>consequent support</th>\n",
       "      <th>support</th>\n",
       "      <th>confidence</th>\n",
       "      <th>lift</th>\n",
       "      <th>leverage</th>\n",
       "      <th>conviction</th>\n",
       "    </tr>\n",
       "  </thead>\n",
       "  <tbody>\n",
       "    <tr>\n",
       "      <th>0</th>\n",
       "      <td>(bruises_f)</td>\n",
       "      <td>(cap-surface_f)</td>\n",
       "      <td>0.584441</td>\n",
       "      <td>0.285574</td>\n",
       "      <td>0.173314</td>\n",
       "      <td>0.296546</td>\n",
       "      <td>1.038422</td>\n",
       "      <td>0.006413</td>\n",
       "      <td>1.015598</td>\n",
       "    </tr>\n",
       "    <tr>\n",
       "      <th>1</th>\n",
       "      <td>(cap-surface_f)</td>\n",
       "      <td>(bruises_f)</td>\n",
       "      <td>0.285574</td>\n",
       "      <td>0.584441</td>\n",
       "      <td>0.173314</td>\n",
       "      <td>0.606897</td>\n",
       "      <td>1.038422</td>\n",
       "      <td>0.006413</td>\n",
       "      <td>1.057123</td>\n",
       "    </tr>\n",
       "    <tr>\n",
       "      <th>2</th>\n",
       "      <td>(good_for_soup_neutral)</td>\n",
       "      <td>(cap-surface_f)</td>\n",
       "      <td>0.434269</td>\n",
       "      <td>0.285574</td>\n",
       "      <td>0.188085</td>\n",
       "      <td>0.433107</td>\n",
       "      <td>1.516620</td>\n",
       "      <td>0.064069</td>\n",
       "      <td>1.260248</td>\n",
       "    </tr>\n",
       "    <tr>\n",
       "      <th>3</th>\n",
       "      <td>(cap-surface_f)</td>\n",
       "      <td>(good_for_soup_neutral)</td>\n",
       "      <td>0.285574</td>\n",
       "      <td>0.434269</td>\n",
       "      <td>0.188085</td>\n",
       "      <td>0.658621</td>\n",
       "      <td>1.516620</td>\n",
       "      <td>0.064069</td>\n",
       "      <td>1.657192</td>\n",
       "    </tr>\n",
       "    <tr>\n",
       "      <th>4</th>\n",
       "      <td>(gill-spacing_w)</td>\n",
       "      <td>(cap-surface_f)</td>\n",
       "      <td>0.161497</td>\n",
       "      <td>0.285574</td>\n",
       "      <td>0.079764</td>\n",
       "      <td>0.493902</td>\n",
       "      <td>1.729510</td>\n",
       "      <td>0.033644</td>\n",
       "      <td>1.411638</td>\n",
       "    </tr>\n",
       "  </tbody>\n",
       "</table>\n",
       "</div>"
      ],
      "text/plain": [
       "               antecedents              consequents  antecedent support  \\\n",
       "0              (bruises_f)          (cap-surface_f)            0.584441   \n",
       "1          (cap-surface_f)              (bruises_f)            0.285574   \n",
       "2  (good_for_soup_neutral)          (cap-surface_f)            0.434269   \n",
       "3          (cap-surface_f)  (good_for_soup_neutral)            0.285574   \n",
       "4         (gill-spacing_w)          (cap-surface_f)            0.161497   \n",
       "\n",
       "   consequent support   support  confidence      lift  leverage  conviction  \n",
       "0            0.285574  0.173314    0.296546  1.038422  0.006413    1.015598  \n",
       "1            0.584441  0.173314    0.606897  1.038422  0.006413    1.057123  \n",
       "2            0.285574  0.188085    0.433107  1.516620  0.064069    1.260248  \n",
       "3            0.434269  0.188085    0.658621  1.516620  0.064069    1.657192  \n",
       "4            0.285574  0.079764    0.493902  1.729510  0.033644    1.411638  "
      ]
     },
     "execution_count": 16,
     "metadata": {},
     "output_type": "execute_result"
    }
   ],
   "source": [
    "# next, let's determine the rules\n",
    "rules = association_rules(freq_is, metric=\"lift\", min_threshold=1)\n",
    "rules.head()"
   ]
  },
  {
   "cell_type": "code",
   "execution_count": 24,
   "metadata": {},
   "outputs": [],
   "source": [
    "# finally, let's filter the rules to significant and relevant\n",
    "nonr_rules = rules[(rules['confidence'] > 0.6)]"
   ]
  },
  {
   "cell_type": "code",
   "execution_count": 30,
   "metadata": {},
   "outputs": [
    {
     "data": {
      "text/html": [
       "<div>\n",
       "<style scoped>\n",
       "    .dataframe tbody tr th:only-of-type {\n",
       "        vertical-align: middle;\n",
       "    }\n",
       "\n",
       "    .dataframe tbody tr th {\n",
       "        vertical-align: top;\n",
       "    }\n",
       "\n",
       "    .dataframe thead th {\n",
       "        text-align: right;\n",
       "    }\n",
       "</style>\n",
       "<table border=\"1\" class=\"dataframe\">\n",
       "  <thead>\n",
       "    <tr style=\"text-align: right;\">\n",
       "      <th></th>\n",
       "      <th>antecedents</th>\n",
       "      <th>consequents</th>\n",
       "      <th>antecedent support</th>\n",
       "      <th>consequent support</th>\n",
       "      <th>support</th>\n",
       "      <th>confidence</th>\n",
       "      <th>lift</th>\n",
       "      <th>leverage</th>\n",
       "      <th>conviction</th>\n",
       "    </tr>\n",
       "  </thead>\n",
       "  <tbody>\n",
       "    <tr>\n",
       "      <th>54995</th>\n",
       "      <td>(stalk-shape_e, bruises_t, gill-size_b)</td>\n",
       "      <td>(good_for_soup_good)</td>\n",
       "      <td>0.123092</td>\n",
       "      <td>0.098474</td>\n",
       "      <td>0.086657</td>\n",
       "      <td>0.704000</td>\n",
       "      <td>7.149120</td>\n",
       "      <td>0.074535</td>\n",
       "      <td>3.045697</td>\n",
       "    </tr>\n",
       "    <tr>\n",
       "      <th>55106</th>\n",
       "      <td>(stalk-color-above-ring_w, stalk-shape_e, brui...</td>\n",
       "      <td>(good_for_soup_good)</td>\n",
       "      <td>0.143772</td>\n",
       "      <td>0.098474</td>\n",
       "      <td>0.086657</td>\n",
       "      <td>0.602740</td>\n",
       "      <td>6.120822</td>\n",
       "      <td>0.072499</td>\n",
       "      <td>2.269359</td>\n",
       "    </tr>\n",
       "    <tr>\n",
       "      <th>55134</th>\n",
       "      <td>(ring-number_o, stalk-shape_e, bruises_t)</td>\n",
       "      <td>(good_for_soup_good)</td>\n",
       "      <td>0.119153</td>\n",
       "      <td>0.098474</td>\n",
       "      <td>0.086657</td>\n",
       "      <td>0.727273</td>\n",
       "      <td>7.385455</td>\n",
       "      <td>0.074923</td>\n",
       "      <td>3.305597</td>\n",
       "    </tr>\n",
       "    <tr>\n",
       "      <th>55149</th>\n",
       "      <td>(stalk-shape_e, bruises_t, ring-type_p)</td>\n",
       "      <td>(good_for_soup_good)</td>\n",
       "      <td>0.131955</td>\n",
       "      <td>0.098474</td>\n",
       "      <td>0.086657</td>\n",
       "      <td>0.656716</td>\n",
       "      <td>6.668955</td>\n",
       "      <td>0.073663</td>\n",
       "      <td>2.626185</td>\n",
       "    </tr>\n",
       "    <tr>\n",
       "      <th>55163</th>\n",
       "      <td>(stalk-shape_e, bruises_t, class_e)</td>\n",
       "      <td>(good_for_soup_good)</td>\n",
       "      <td>0.114229</td>\n",
       "      <td>0.098474</td>\n",
       "      <td>0.086657</td>\n",
       "      <td>0.758621</td>\n",
       "      <td>7.703793</td>\n",
       "      <td>0.075408</td>\n",
       "      <td>3.734895</td>\n",
       "    </tr>\n",
       "  </tbody>\n",
       "</table>\n",
       "</div>"
      ],
      "text/plain": [
       "                                             antecedents  \\\n",
       "54995            (stalk-shape_e, bruises_t, gill-size_b)   \n",
       "55106  (stalk-color-above-ring_w, stalk-shape_e, brui...   \n",
       "55134          (ring-number_o, stalk-shape_e, bruises_t)   \n",
       "55149            (stalk-shape_e, bruises_t, ring-type_p)   \n",
       "55163                (stalk-shape_e, bruises_t, class_e)   \n",
       "\n",
       "                consequents  antecedent support  consequent support   support  \\\n",
       "54995  (good_for_soup_good)            0.123092            0.098474  0.086657   \n",
       "55106  (good_for_soup_good)            0.143772            0.098474  0.086657   \n",
       "55134  (good_for_soup_good)            0.119153            0.098474  0.086657   \n",
       "55149  (good_for_soup_good)            0.131955            0.098474  0.086657   \n",
       "55163  (good_for_soup_good)            0.114229            0.098474  0.086657   \n",
       "\n",
       "       confidence      lift  leverage  conviction  \n",
       "54995    0.704000  7.149120  0.074535    3.045697  \n",
       "55106    0.602740  6.120822  0.072499    2.269359  \n",
       "55134    0.727273  7.385455  0.074923    3.305597  \n",
       "55149    0.656716  6.668955  0.073663    2.626185  \n",
       "55163    0.758621  7.703793  0.075408    3.734895  "
      ]
     },
     "execution_count": 30,
     "metadata": {},
     "output_type": "execute_result"
    }
   ],
   "source": [
    "gfs_rules = nonr_rules[nonr_rules['consequents'] == frozenset({'good_for_soup_good'})]\n",
    "gfs_rules.head()"
   ]
  },
  {
   "cell_type": "code",
   "execution_count": 41,
   "metadata": {},
   "outputs": [],
   "source": [
    "gfs_rules = gfs_rules.sort_values(by=['confidence', 'lift'], ascending=False)"
   ]
  },
  {
   "cell_type": "code",
   "execution_count": 80,
   "metadata": {},
   "outputs": [
    {
     "name": "stdout",
     "output_type": "stream",
     "text": [
      "420\n",
      "                                               antecedents  \\\n",
      "339188   (ring-number_o, stalk-shape_e, bruises_t, gill...   \n",
      "340118   (ring-number_o, stalk-shape_e, bruises_t, clas...   \n",
      "397570   (ring-number_o, stalk-shape_e, stalk-color-abo...   \n",
      "1390861  (ring-number_o, bruises_t, gill-size_b, gill-s...   \n",
      "1392783  (class_e, ring-number_o, bruises_t, gill-spaci...   \n",
      "1394271  (ring-number_o, bruises_t, gill-size_b, stalk-...   \n",
      "1394519  (ring-number_o, bruises_t, gill-size_b, stalk-...   \n",
      "1394705  (veil-color_w, ring-number_o, bruises_t, gill-...   \n",
      "1394891  (ring-number_o, bruises_t, gill-size_b, ring-t...   \n",
      "1394953  (class_e, ring-number_o, bruises_t, gill-size_...   \n",
      "\n",
      "                  consequents  antecedent support  consequent support  \\\n",
      "339188   (good_for_soup_good)            0.086657            0.098474   \n",
      "340118   (good_for_soup_good)            0.086657            0.098474   \n",
      "397570   (good_for_soup_good)            0.086657            0.098474   \n",
      "1390861  (good_for_soup_good)            0.086657            0.098474   \n",
      "1392783  (good_for_soup_good)            0.086657            0.098474   \n",
      "1394271  (good_for_soup_good)            0.086657            0.098474   \n",
      "1394519  (good_for_soup_good)            0.086657            0.098474   \n",
      "1394705  (good_for_soup_good)            0.086657            0.098474   \n",
      "1394891  (good_for_soup_good)            0.086657            0.098474   \n",
      "1394953  (good_for_soup_good)            0.086657            0.098474   \n",
      "\n",
      "          support  confidence    lift  leverage  conviction  \n",
      "339188   0.086657         1.0  10.155  0.078123         inf  \n",
      "340118   0.086657         1.0  10.155  0.078123         inf  \n",
      "397570   0.086657         1.0  10.155  0.078123         inf  \n",
      "1390861  0.086657         1.0  10.155  0.078123         inf  \n",
      "1392783  0.086657         1.0  10.155  0.078123         inf  \n",
      "1394271  0.086657         1.0  10.155  0.078123         inf  \n",
      "1394519  0.086657         1.0  10.155  0.078123         inf  \n",
      "1394705  0.086657         1.0  10.155  0.078123         inf  \n",
      "1394891  0.086657         1.0  10.155  0.078123         inf  \n",
      "1394953  0.086657         1.0  10.155  0.078123         inf  \n"
     ]
    }
   ],
   "source": [
    "print(len(gfs_rules))\n",
    "print(gfs_rules.head(10))\n",
    "# antecedent_list = [list(x) for x in list(gfs_rules.antecedents.values)]\n",
    "# antecedent_list = list(map(sorted, antecedent_list)) \n",
    "# print(antecedent_list[0:10])"
   ]
  },
  {
   "cell_type": "code",
   "execution_count": 79,
   "metadata": {},
   "outputs": [
    {
     "data": {
      "text/plain": [
       "<AxesSubplot:xlabel='support', ylabel='confidence'>"
      ]
     },
     "execution_count": 79,
     "metadata": {},
     "output_type": "execute_result"
    },
    {
     "data": {
      "image/png": "[encoded data removed]",
      "text/plain": [
       "<Figure size 432x288 with 1 Axes>"
      ]
     },
     "metadata": {},
     "output_type": "display_data"
    }
   ],
   "source": [
    "support = gfs_rules['support']\n",
    "confidence = gfs_rules['confidence']\n",
    "sns.stripplot(x=support, y=confidence,jitter=True)"
   ]
  },
  {
   "cell_type": "markdown",
   "metadata": {},
   "source": [
    "This looks good enough to stop.  We've got 420 unique rules with confidence (conditional probability of occurrence of 'good_soup' given the presence of the other features) greater than 0.6 to determine whether a mushroom we're thinking about eating is likely to smell good and also taste good.  Further filters to the rule could be applied if we didn't know certain things (like whether it's edible or not), which is one of the things that makes association rules so useful."
   ]
  }
 ],
 "metadata": {
  "kernelspec": {
   "display_name": "Python 3 (ipykernel)",
   "language": "python",
   "name": "python3"
  },
  "language_info": {
   "codemirror_mode": {
    "name": "ipython",
    "version": 3
   },
   "file_extension": ".py",
   "mimetype": "text/x-python",
   "name": "python",
   "nbconvert_exporter": "python",
   "pygments_lexer": "ipython3",
   "version": "3.8.10"
  }
 },
 "nbformat": 4,
 "nbformat_minor": 4
}
